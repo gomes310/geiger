{
 "cells": [
  {
   "cell_type": "markdown",
   "metadata": {},
   "source": [
    "# Localização utilizando o método de Geiger mais simples\n",
    "\n",
    " * Cartesiano (distância lineares por pitágoras)\n",
    " * Semi-espaço (velocidade constante)"
   ]
  },
  {
   "cell_type": "code",
   "execution_count": 7,
   "metadata": {
    "collapsed": false
   },
   "outputs": [],
   "source": [
    "%matplotlib inline\n",
    "\n",
    "from __future__ import print_function, division\n",
    "from matplotlib import pyplot as plt\n",
    "import numpy as np\n",
    "import pylab\n",
    "\n",
    "pylab.rcParams['figure.figsize']  = [12, 6]"
   ]
  },
  {
   "cell_type": "markdown",
   "metadata": {},
   "source": [
    "## Definindo as funções para calcular o problema direto (tt) e as derivadas em x (ttdx), y (ttdy) e z (ttdz). A derivada em DT/dt =1 "
   ]
  },
  {
   "cell_type": "code",
   "execution_count": 8,
   "metadata": {
    "collapsed": false
   },
   "outputs": [],
   "source": [
    "def ttdx(x,y,z,xo,yo,zo):\n",
    "    # Implementar a derivada em x, fazer os valores menores \n",
    "    # cuidado para d < 1E-10, fazer com que elas sejam iguais a 1E-10\n",
    "    # antes de dividir pela distância\n",
    "    pass\n",
    "\n",
    "def ttdy(x,y,z,xo,yo,zo):\n",
    "    # Implementar a derivada em y, fazer os valores menores \n",
    "    # cuidado para d < 1E-10, fazer com que elas sejam iguais a 1E-10\n",
    "    # antes de dividir pela distância\n",
    "    pass\n",
    "\n",
    "def ttdz(x,y,z,xo,yo,zo):\n",
    "    # Implementar a derivada em z, fazer os valores menores \n",
    "    # cuidado para d < 1E-10, fazer com que elas sejam iguais a 1E-10\n",
    "    # antes de dividir pela distância\n",
    "    pass\n",
    "\n",
    "def tt(x,y,z,xo,yo,zo,t0):\n",
    "    # Implementar o problema direto.\n",
    "    # Retornar (d, tmod)\n",
    "    pass\n",
    "\n",
    "def compute_rms(tobs, tmod):\n",
    "    r = tobs - tmod\n",
    "    rms = r * r\n",
    "    return np.sqrt(np.sum(rms) / len(rms))"
   ]
  },
  {
   "cell_type": "markdown",
   "metadata": {},
   "source": [
    "## Definindo os parâmetros do modelo"
   ]
  },
  {
   "cell_type": "code",
   "execution_count": null,
   "metadata": {
    "collapsed": true
   },
   "outputs": [],
   "source": [
    "V   = ?? # km/s Velocidade do meio\n",
    "N   = ?? # Número de estações\n",
    "CVG = ?? # Valor para determinar convergência "
   ]
  },
  {
   "cell_type": "markdown",
   "metadata": {},
   "source": [
    "## Gerando os dados (tempos) para realizar a localização"
   ]
  },
  {
   "cell_type": "code",
   "execution_count": null,
   "metadata": {
    "collapsed": false,
    "scrolled": true
   },
   "outputs": [],
   "source": [
    "## Posição do evento\n",
    "xtrue = ?? # Defina a posição do evento em X\n",
    "ytrue = ?? # Defina a posição do evento em Y\n",
    "ztrue = ?? # Defina a posição do evento em Z\n",
    "ttrue = ?? # Defina a hora de origem do evento\n",
    "\n",
    "## Coordenada das estações\n",
    "x = (np.random.rand(N) - 0.5) * 5000.\n",
    "y = (np.random.rand(N) - 0.5) * 5000.\n",
    "z = (np.random.rand(N)) * 0.0\n",
    "\n",
    "d,tobs = tt(x, y, z, xtrue, ytrue, ztrue, ttrue)\n",
    "\n",
    "## Mapa das estações e evento\n",
    "\n",
    "_ = plt.subplot(1,2,1)\n",
    "_ = plt.plot(x, y, \"ob\", markersize=8)\n",
    "_ = plt.plot(xtrue, ytrue, \"*g\", markersize=20)\n",
    "_ = plt.xlim(-1 * np.pi*6371.0,np.pi*6371.0)\n",
    "_ = plt.ylim(-1 * np.pi*6371.0,np.pi*6371.0)\n",
    "_ = plt.subplot(1,2,2)\n",
    "_ = plt.plot(d,tobs)"
   ]
  },
  {
   "cell_type": "markdown",
   "metadata": {},
   "source": [
    "## Buscando o evento a patir de um ponto o próximo"
   ]
  },
  {
   "cell_type": "code",
   "execution_count": null,
   "metadata": {
    "collapsed": false
   },
   "outputs": [],
   "source": [
    "xo = x[tobs.argmin()]\n",
    "yo = y[tobs.argmin()]\n",
    "zo = z[tobs.argmin()]\n",
    "to = 0.0\n",
    "\n",
    "rms    = None\n",
    "oldrms = None\n",
    "\n",
    "xsol = []\n",
    "ysol = []\n",
    "print(\" i  ---X--- ---Y--- ---Z--- ---T---\")\n",
    "for i in range(100): # Realizando um total de 100 iterações\n",
    "    # Calcula o resíduo\n",
    "    dmod, tmod = ?? # Calcular o tmod\n",
    "    r = ??          # Obter o resíduo\n",
    "    rms = ??        # Obter o RMS\n",
    "\n",
    "    # Reporta\n",
    "    print(\"%03d %7.2f %7.2f %7.2f %7.2f %6.2f\" % (i, xo, yo, zo, to,rms))\n",
    "    xsol.append(xo)\n",
    "    ysol.append(yo)\n",
    "\n",
    "    if rms < CVG:\n",
    "        print(\"             Problema convergiu\")\n",
    "        break\n",
    "\n",
    "    if oldrms is not None and rms / 10 > oldrms:\n",
    "        print(\"             Problema divergiu!\")\n",
    "        break\n",
    "\n",
    "    oldrms = rms\n",
    "\n",
    "    # Monta o sistema\n",
    "    m = np.zeros((??, ??)) # Indicar o tamanho da matrix L x C\n",
    "\n",
    "    m[:,0] = ?? # Preencher a matrix com as derivadas em X\n",
    "    m[:,1] = ?? # Preencher a matrix com as derivadas em Y\n",
    "    m[:,2] = ?? # Preencher a matrix com as derivadas em Z\n",
    "    m[:,3] = ??  # DT/Dt??\n",
    "    \n",
    "    # Resolve e atualiza\n",
    "    tmp = np.linalg.lstsq(m,r)\n",
    "    (dx,dy,dz,dt) = tmp[0] # obter os valores de dx,dy,dz,dt e atualizar a solução !\n",
    "    xo += dx\n",
    "    yo += dy\n",
    "    zo += dz\n",
    "    to += dt\n"
   ]
  },
  {
   "cell_type": "markdown",
   "metadata": {},
   "source": [
    "## Graficar a solução"
   ]
  },
  {
   "cell_type": "code",
   "execution_count": null,
   "metadata": {
    "collapsed": false
   },
   "outputs": [],
   "source": [
    "_ = plt.plot(x, y, \"ob\", markersize = 12)\n",
    "_ = plt.xlim(-1 * np.pi*6371.0,np.pi*6371.0)\n",
    "_ = plt.ylim(-1 * np.pi*6371.0,np.pi*6371.0)\n",
    "_ = plt.plot(xtrue, ytrue, \"*g\", markersize = 25)\n",
    "_ = plt.plot(xo, yo, \"-k*\", markersize=15)\n",
    "_ = plt.plot(xsol, ysol, \"-c*\", markersize=13)\n",
    "plt.show()"
   ]
  }
 ],
 "metadata": {
  "kernelspec": {
   "display_name": "Python 2",
   "language": "python",
   "name": "python2"
  },
  "language_info": {
   "codemirror_mode": {
    "name": "ipython",
    "version": 2
   },
   "file_extension": ".py",
   "mimetype": "text/x-python",
   "name": "python",
   "nbconvert_exporter": "python",
   "pygments_lexer": "ipython2",
   "version": "2.7.10"
  }
 },
 "nbformat": 4,
 "nbformat_minor": 0
}
