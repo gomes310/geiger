{
 "cells": [
  {
   "cell_type": "markdown",
   "metadata": {},
   "source": [
    "# Localização utilizando o método de Geiger mais simples\n",
    "\n",
    " * Cartesiano (distância lineares por pitágoras)\n",
    " * Semi-espaço (velocidade constante)"
   ]
  },
  {
   "cell_type": "code",
   "execution_count": 4,
   "metadata": {
    "collapsed": false
   },
   "outputs": [],
   "source": [
    "%matplotlib inline\n",
    "\n",
    "from __future__ import print_function, division\n",
    "from matplotlib import pyplot as plt\n",
    "import numpy as np\n",
    "import pylab\n",
    "import ipywidgets\n",
    "\n",
    "pylab.rcParams['figure.figsize']  = [12, 6]"
   ]
  },
  {
   "cell_type": "markdown",
   "metadata": {},
   "source": [
    "## Definindo as funções para calcular o problema direto (tt) e as derivadas em x (ttdx), y (ttdy) e z (ttdz). A derivada em DT/dt =1 "
   ]
  },
  {
   "cell_type": "code",
   "execution_count": 5,
   "metadata": {
    "collapsed": false
   },
   "outputs": [],
   "source": [
    "def ttdx(x,y,z,xo,yo,zo):\n",
    "    d = np.sqrt((xo - x)*(xo - x) + (yo - y)*(yo - y) + (zo-z)*(zo-z))\n",
    "    d[d < 1E-10] = 1E-10\n",
    "    ddx = ((xo - x) / V) * (1/d)\n",
    "    return ddx\n",
    "\n",
    "def ttdy(x,y,z,xo,yo,zo):\n",
    "    d = np.sqrt((xo - x)*(xo - x) + (yo - y)*(yo - y) + (zo-z)*(zo-z))\n",
    "    d[d < 1E-10] = 1E-10\n",
    "    ddy = ((yo - y) / V) * (1/d)\n",
    "    return ddy\n",
    "\n",
    "def ttdz(x,y,z,xo,yo,zo):\n",
    "    d = np.sqrt((xo - x)*(xo - x) + (yo - y)*(yo - y) + (zo-z)*(zo-z))\n",
    "    d[d < 1E-10] = 1E-10\n",
    "    ddz = ((zo - z) / V)  * (1/d)\n",
    "    return ddz\n",
    "\n",
    "\n",
    "def tt(x,y,z,xo,yo,zo,t0):\n",
    "    d = np.sqrt((xo - x)*(xo - x) + (yo - y)*(yo - y) + (zo - z)*(zo - z))\n",
    "    return (d, d/V + t0)\n",
    "\n",
    "def compute_rms(x, y, z, t, xo, yo, zo, to):\n",
    "    r = t - tt(x, y, z, xo, yo, zo, to)[1]\n",
    "    rms = r * r\n",
    "    return np.sqrt(np.sum(rms) / len(rms)) "
   ]
  },
  {
   "cell_type": "markdown",
   "metadata": {},
   "source": [
    "## Definindo os parâmetros do modelo"
   ]
  },
  {
   "cell_type": "code",
   "execution_count": 8,
   "metadata": {
    "collapsed": true
   },
   "outputs": [],
   "source": [
    "V   = 6.4   # km/s Velocidade do meio\n",
    "N   = 8     # Número de estações\n",
    "CVG = 0.005 # Valor para determinar convergência "
   ]
  },
  {
   "cell_type": "markdown",
   "metadata": {},
   "source": [
    "## Gerando os dados (tempos) para realizar a localização"
   ]
  },
  {
   "cell_type": "code",
   "execution_count": 9,
   "metadata": {
    "collapsed": false,
    "scrolled": true
   },
   "outputs": [
    {
     "data": {
      "image/png": "[encoded data removed]",
      "text/plain": [
       "<matplotlib.figure.Figure at 0x7fd10a860b50>"
      ]
     },
     "metadata": {},
     "output_type": "display_data"
    }
   ],
   "source": [
    "## Posição do evento\n",
    "\n",
    "xtrue = 0.0\n",
    "ytrue = 0.0\n",
    "ztrue = 0.0\n",
    "ttrue = 0.0\n",
    "\n",
    "## Coordenada das estações\n",
    "\n",
    "x = (np.random.rand(N) - 0.5) * 5000.\n",
    "y = (np.random.rand(N) - 0.5) * 5000.\n",
    "z = (np.random.rand(N)) * 0.0\n",
    "\n",
    "d,t = tt(x, y, z, xtrue, ytrue, ztrue, ttrue)\n",
    "\n",
    "## Mapa das estações e evento\n",
    "\n",
    "_ = plt.subplot(1,2,1)\n",
    "_ = plt.plot(x, y, \"ob\", markersize=8)\n",
    "_ = plt.plot(xtrue, ytrue, \"*g\", markersize=20)\n",
    "_ = plt.xlim(-1 * np.pi*6371.0,np.pi*6371.0)\n",
    "_ = plt.ylim(-1 * np.pi*6371.0,np.pi*6371.0)\n",
    "_ = plt.subplot(1,2,2)\n",
    "_ = plt.plot(d,t)"
   ]
  },
  {
   "cell_type": "markdown",
   "metadata": {},
   "source": [
    "## Buscando o evento a patir de um ponto o próximo"
   ]
  },
  {
   "cell_type": "code",
   "execution_count": 6,
   "metadata": {
    "collapsed": false
   },
   "outputs": [
    {
     "name": "stdout",
     "output_type": "stream",
     "text": [
      " i  ---X--- ---Y--- ---Z--- ---T---\n",
      "000  199.97  622.33    0.00    0.00  27.57\n",
      "001   84.17 -180.18    0.00   32.41  12.11\n",
      "002    2.73   -4.74    0.00    1.21   0.41\n",
      "003    0.00   -0.01    0.00    0.00   0.00\n",
      "             Problema convergiu\n"
     ]
    }
   ],
   "source": [
    "xo = x[t.argmin()]\n",
    "yo = y[t.argmin()]\n",
    "zo = z[t.argmin()]\n",
    "to = 0.0\n",
    "\n",
    "rms    = None\n",
    "oldrms = None\n",
    "\n",
    "xsol = []\n",
    "ysol = []\n",
    "print(\" i  ---X--- ---Y--- ---Z--- ---T---\")\n",
    "for i in range(100): # Realizando um total de 10 iterações\n",
    "    # Calcula o resíduo\n",
    "    r = t - tt(x, y, z, xo, yo, zo, to)[1]\n",
    "    rms = r * r\n",
    "    rms = np.sqrt(np.sum(rms)) / len(rms)\n",
    "\n",
    "    # Reporta\n",
    "    print(\"%03d %7.2f %7.2f %7.2f %7.2f %6.2f\" % (i, xo, yo, zo, to,rms))\n",
    "    xsol.append(xo)\n",
    "    ysol.append(yo)\n",
    "\n",
    "    if rms < CVG:\n",
    "        print(\"             Problema convergiu\")\n",
    "        break\n",
    "\n",
    "    if oldrms is not None and rms / 10 > oldrms:\n",
    "        print(\"             Problema divergiu!\")\n",
    "        break\n",
    "\n",
    "    oldrms = rms\n",
    "\n",
    "    # Monta o sistema\n",
    "    m = np.zeros((N, 4))\n",
    "\n",
    "    m[:,0] = ttdx(x,y,z,xo,yo,zo)\n",
    "    m[:,1] = ttdy(x,y,z,xo,yo,zo)\n",
    "    m[:,2] = ttdz(x,y,z,xo,yo,zo)\n",
    "    m[:,3] = 1 # DT/Dt = 1\n",
    "    \n",
    "    # Resolve e atualiza\n",
    "    tmp = np.linalg.lstsq(m,r)\n",
    "    (dx,dy,dz,dt) = tmp[0]\n",
    "    xo += dx\n",
    "    yo += dy\n",
    "    zo += dz\n",
    "    to += dt\n"
   ]
  },
  {
   "cell_type": "code",
   "execution_count": 81,
   "metadata": {
    "collapsed": false
   },
   "outputs": [
    {
     "data": {
      "image/png": "[encoded data removed]",
      "text/plain": [
       "<matplotlib.figure.Figure at 0x7f9fdacc4610>"
      ]
     },
     "metadata": {},
     "output_type": "display_data"
    }
   ],
   "source": [
    "_ = plt.plot(x, y, \"ob\", markersize = 12)\n",
    "_ = plt.xlim(-1 * np.pi*6371.0,np.pi*6371.0)\n",
    "_ = plt.ylim(-1 * np.pi*6371.0,np.pi*6371.0)\n",
    "_ = plt.plot(xtrue, ytrue, \"*g\", markersize = 25)\n",
    "_ = plt.plot(xo, yo, \"-k*\", markersize=15)\n",
    "_ = plt.plot(xsol, ysol, \"-c*\", markersize=13)\n",
    "plt.show()"
   ]
  },
  {
   "cell_type": "markdown",
   "metadata": {},
   "source": [
    "# Resolvendo de forma interativa"
   ]
  },
  {
   "cell_type": "code",
   "execution_count": 77,
   "metadata": {
    "collapsed": false
   },
   "outputs": [],
   "source": [
    "def call(xo = xo, yo = yo, zo = zo, to = to):\n",
    "    d = compute_rms(x, y, z, t, xo, yo, zo, to)\n",
    "    _ = plt.plot(x, y, \"ob\", markersize = 12)\n",
    "    _ = plt.xlim(-1 * np.pi*6371.0,np.pi*6371.0)\n",
    "    _ = plt.ylim(-1 * np.pi*6371.0,np.pi*6371.0)\n",
    "    #_ = plt.plot(xtrue, ytrue, \"*g\", markersize = 25)\n",
    "    _ = plt.plot(xo, yo, \"-k*\", markersize=15)\n",
    "    _ = plt.text(-1*np.pi*6371.0+3000, np.pi*6371.0 -3000,\"RMS = %.1f s\" % d)\n",
    "    return"
   ]
  },
  {
   "cell_type": "code",
   "execution_count": 80,
   "metadata": {
    "collapsed": false,
    "scrolled": true
   },
   "outputs": [
    {
     "data": {
      "image/png": "[encoded data removed]",
      "text/plain": [
       "<matplotlib.figure.Figure at 0x7f9fda930850>"
      ]
     },
     "metadata": {},
     "output_type": "display_data"
    }
   ],
   "source": [
    "xo_widget = ipywidgets.FloatSlider(min=-1*np.pi*6371, max=np.pi*6371, step=1, continuous_update=False)\n",
    "yo_widget = ipywidgets.FloatSlider(min=-1*np.pi*6371, max=np.pi*6371, step=1, continuous_update=False)\n",
    "zo_widget = ipywidgets.FloatSlider(min=0, max=900, step=1, continuous_update=False)\n",
    "to_widget = ipywidgets.FloatSlider(min=-1200, max=1200, step=1, continuous_update=False)\n",
    "\n",
    "w = ipywidgets.interact(call, xo=xo_widget, yo = yo_widget, zo=zo_widget, to= to_widget)"
   ]
  },
  {
   "cell_type": "code",
   "execution_count": null,
   "metadata": {
    "collapsed": true
   },
   "outputs": [],
   "source": []
  }
 ],
 "metadata": {
  "kernelspec": {
   "display_name": "Python 2",
   "language": "python",
   "name": "python2"
  },
  "language_info": {
   "codemirror_mode": {
    "name": "ipython",
    "version": 2
   },
   "file_extension": ".py",
   "mimetype": "text/x-python",
   "name": "python",
   "nbconvert_exporter": "python",
   "pygments_lexer": "ipython2",
   "version": "2.7.10"
  }
 },
 "nbformat": 4,
 "nbformat_minor": 0
}
